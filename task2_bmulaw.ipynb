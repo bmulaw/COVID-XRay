{
 "cells": [
  {
   "cell_type": "markdown",
   "metadata": {
    "nbpresent": {
     "id": "1d234e3f-af8b-4757-83f3-241b04b7a511"
    }
   },
   "source": [
    "# Class Challenge: Image Classification of COVID-19 X-rays\n",
    "# Task 2 [Total points: 30]"
   ]
  },
  {
   "cell_type": "markdown",
   "metadata": {
    "nbpresent": {
     "id": "b07b9992-b592-4871-9f9a-3b0ae5fa8b5f"
    }
   },
   "source": [
    "## Setup\n",
    "\n",
    "* This assignment involves the following packages: 'matplotlib', 'numpy', and 'sklearn'. \n",
    "\n",
    "* If you are using conda, use the following commands to install the above packages:<br>\n",
    "```shell\n",
    "conda install matplotlib\n",
    "conda install numpy\n",
    "conda install -c anaconda scikit-learn\n",
    "```\n",
    "\n",
    "* If you are using pip, use use the following commands to install the above packages: <br> \n",
    "```shell\n",
    "pip install matplotlib\n",
    "pip install numpy\n",
    "pip install sklearn\n",
    "```"
   ]
  },
  {
   "cell_type": "markdown",
   "metadata": {
    "nbpresent": {
     "id": "5516f610-f00c-43c3-bf19-4cf7ab9c089f"
    }
   },
   "source": [
    "## Data\n",
    "\n",
    "Please download the data using the following link: [COVID-19](https://drive.google.com/file/d/1Y88tgqpQ1Pjko_7rntcPowOJs_QNOrJ-/view). \n",
    "\n",
    "* After downloading 'Covid_Data_GradientCrescent.zip', unzip the file and you should see the following data structure:\n",
    "\n",
    "\n",
    "|--all<br>\n",
    "|--------train<br>\n",
    "|--------test<br>\n",
    "|--two<br>\n",
    "|--------train<br>\n",
    "|--------test<br>\n",
    "\n",
    "\n",
    "* Put the 'all' folder, the 'two' folder and this python notebook in the **same directory** so that the following code can correctly locate the data.  \n",
    "\n"
   ]
  },
  {
   "cell_type": "markdown",
   "metadata": {
    "nbpresent": {
     "id": "66140980-2aa4-457f-b1df-74c10c234cc2"
    }
   },
   "source": [
    "## [20 points] Multi-class Classification"
   ]
  },
  {
   "cell_type": "code",
   "execution_count": 20,
   "metadata": {
    "nbpresent": {
     "id": "5e05f980-3d14-4367-b3d1-664249145b13"
    },
    "scrolled": true
   },
   "outputs": [
    {
     "data": {
      "text/plain": [
       "'2.1.0'"
      ]
     },
     "execution_count": 20,
     "metadata": {},
     "output_type": "execute_result"
    }
   ],
   "source": [
    "import os\n",
    "\n",
    "import tensorflow as tf\n",
    "import numpy as np\n",
    "import matplotlib.pyplot as plt\n",
    "from tensorflow.keras.preprocessing.image import ImageDataGenerator\n",
    "\n",
    "os.environ['OMP_NUM_THREADS'] = '1'\n",
    "os.environ['CUDA_VISIBLE_DEVICES'] = '-1'\n",
    "tf.__version__"
   ]
  },
  {
   "cell_type": "markdown",
   "metadata": {
    "nbpresent": {
     "id": "66140980-2aa4-457f-b1df-74c10c234cc2"
    }
   },
   "source": [
    "#### Load Image Data"
   ]
  },
  {
   "cell_type": "code",
   "execution_count": 21,
   "metadata": {
    "nbpresent": {
     "id": "58317664-8da3-4283-b3e5-35721687e7ab"
    }
   },
   "outputs": [],
   "source": [
    "DATA_LIST = os.listdir('all/train')\n",
    "DATASET_PATH  = 'all/train'\n",
    "TEST_DIR =  'all/test'\n",
    "IMAGE_SIZE    = (224, 224)\n",
    "NUM_CLASSES   = len(DATA_LIST)\n",
    "BATCH_SIZE    = 10  # try reducing batch size or freeze more layers if your GPU runs out of memory\n",
    "NUM_EPOCHS    = 100\n",
    "LEARNING_RATE = 0.001 # start off with high rate first 0.001 and experiment with reducing it gradually \n",
    "DECAY_RATE = 0.96\n",
    "DECAY_STEPS = 10000\n",
    "CLASSES = 512\n",
    "INPUT_SHAPE = (224, 224, 3)"
   ]
  },
  {
   "cell_type": "markdown",
   "metadata": {
    "nbpresent": {
     "id": "66140980-2aa4-457f-b1df-74c10c234cc2"
    }
   },
   "source": [
    "#### Generate Training and Validation Batches"
   ]
  },
  {
   "cell_type": "code",
   "execution_count": 22,
   "metadata": {
    "nbpresent": {
     "id": "71760e29-2b08-4259-93f1-ebe68cd74a6d"
    }
   },
   "outputs": [
    {
     "name": "stderr",
     "output_type": "stream",
     "text": [
      "C:\\Users\\User\\Anaconda3\\lib\\site-packages\\keras_preprocessing\\image\\image_data_generator.py:342: UserWarning: This ImageDataGenerator specifies `zca_whitening` which overrides setting of`featurewise_std_normalization`.\n",
      "  warnings.warn('This ImageDataGenerator specifies '\n"
     ]
    },
    {
     "name": "stdout",
     "output_type": "stream",
     "text": [
      "Found 216 images belonging to 4 classes.\n",
      "Found 54 images belonging to 4 classes.\n"
     ]
    }
   ],
   "source": [
    "train_datagen = ImageDataGenerator(rescale=1./255,rotation_range=50,featurewise_center = True,\n",
    "                                   featurewise_std_normalization = True,width_shift_range=0.2,\n",
    "                                   height_shift_range=0.2,shear_range=0.25,zoom_range=0.1,\n",
    "                                   zca_whitening = True,channel_shift_range = 20,\n",
    "                                   horizontal_flip = True,vertical_flip = True,\n",
    "                                   validation_split = 0.2,fill_mode='constant')\n",
    "\n",
    "\n",
    "train_batches = train_datagen.flow_from_directory(DATASET_PATH,target_size=IMAGE_SIZE,\n",
    "                                                  shuffle=True,batch_size=BATCH_SIZE,\n",
    "                                                  subset = \"training\",seed=42,\n",
    "                                                  class_mode=\"categorical\")\n",
    "\n",
    "valid_batches = train_datagen.flow_from_directory(DATASET_PATH,target_size=IMAGE_SIZE,\n",
    "                                                  shuffle=True,batch_size=BATCH_SIZE,\n",
    "                                                  subset = \"validation\",\n",
    "                                                  seed=42,class_mode=\"categorical\")"
   ]
  },
  {
   "cell_type": "markdown",
   "metadata": {
    "nbpresent": {
     "id": "66140980-2aa4-457f-b1df-74c10c234cc2"
    }
   },
   "source": [
    "#### [10 points] Build Model\n",
    "Hint: Starting from a pre-trained model typically helps performance on a new task, e.g. starting with weights obtained by training on ImageNet. "
   ]
  },
  {
   "cell_type": "code",
   "execution_count": 23,
   "metadata": {},
   "outputs": [],
   "source": [
    "def init_conv(name):\n",
    "    return tf.keras.layers.Conv2D(filters=256, kernel_size=(3,3), padding=\"same\", \n",
    "                                  activation=\"relu\", name=name)\n",
    "\n",
    "def init_dropout(name):\n",
    "    return tf.keras.layers.Dropout(0.25, name=name)"
   ]
  },
  {
   "cell_type": "code",
   "execution_count": 24,
   "metadata": {},
   "outputs": [],
   "source": [
    "vgg16 = tf.keras.applications.VGG16(input_shape=INPUT_SHAPE, classes=CLASSES,\n",
    "                                    include_top=False, weights='imagenet') \n",
    "vgg16.trainable = False"
   ]
  },
  {
   "cell_type": "code",
   "execution_count": 25,
   "metadata": {},
   "outputs": [],
   "source": [
    "conv1 = init_conv('conv_1')\n",
    "conv2 = init_conv('conv_2')\n",
    "flatten = tf.keras.layers.Flatten(name='flatten_1')\n",
    "denseFeature = tf.keras.layers.Dense(CLASSES, activation='relu',name='dense_feature')\n",
    "dropout1 = init_dropout('dropout_1')\n",
    "dropout2 = init_dropout('dropout_2')\n",
    "denseOutput = tf.keras.layers.Dense(4, name = 'dense_output',activation='softmax')"
   ]
  },
  {
   "cell_type": "code",
   "execution_count": 26,
   "metadata": {
    "nbpresent": {
     "id": "5c52eeb2-1092-4d45-9e16-02219c82cb5e"
    }
   },
   "outputs": [
    {
     "name": "stdout",
     "output_type": "stream",
     "text": [
      "Model: \"sequential_1\"\n",
      "_________________________________________________________________\n",
      "Layer (type)                 Output Shape              Param #   \n",
      "=================================================================\n",
      "vgg16 (Model)                (None, 7, 7, 512)         14714688  \n",
      "_________________________________________________________________\n",
      "conv_1 (Conv2D)              (None, 7, 7, 256)         1179904   \n",
      "_________________________________________________________________\n",
      "conv_2 (Conv2D)              (None, 7, 7, 256)         590080    \n",
      "_________________________________________________________________\n",
      "flatten_1 (Flatten)          (None, 12544)             0         \n",
      "_________________________________________________________________\n",
      "dropout_1 (Dropout)          (None, 12544)             0         \n",
      "_________________________________________________________________\n",
      "dense_feature (Dense)        (None, 512)               6423040   \n",
      "_________________________________________________________________\n",
      "dropout_2 (Dropout)          (None, 512)               0         \n",
      "_________________________________________________________________\n",
      "dense_output (Dense)         (None, 4)                 2052      \n",
      "=================================================================\n",
      "Total params: 22,909,764\n",
      "Trainable params: 8,195,076\n",
      "Non-trainable params: 14,714,688\n",
      "_________________________________________________________________\n"
     ]
    }
   ],
   "source": [
    "myModel = tf.keras.Sequential([vgg16, conv1, conv2, flatten, dropout1, \n",
    "                             denseFeature,dropout2,denseOutput])\n",
    "myModel.build(input_shape=INPUT_SHAPE)\n",
    "myModel.summary()"
   ]
  },
  {
   "cell_type": "markdown",
   "metadata": {
    "nbpresent": {
     "id": "66140980-2aa4-457f-b1df-74c10c234cc2"
    }
   },
   "source": [
    "#### [5 points] Train Model"
   ]
  },
  {
   "cell_type": "code",
   "execution_count": 27,
   "metadata": {},
   "outputs": [],
   "source": [
    "earlyStopping = tf.keras.callbacks.EarlyStopping(monitor='val_accuracy', \n",
    "                                                      mode='max', patience=50, \n",
    "                                                      verbose=2, restore_best_weights=False)\n",
    "\n",
    "    \n",
    "def compileModel(learning_rate_sch):\n",
    "    Adam = tf.keras.optimizers.Adam(learning_rate=learning_rate_sch)\n",
    "    myModel.compile(loss='binary_crossentropy',\n",
    "                  optimizer=Adam,\n",
    "                  metrics=['accuracy'])\n",
    "    "
   ]
  },
  {
   "cell_type": "code",
   "execution_count": 28,
   "metadata": {},
   "outputs": [],
   "source": [
    "learning_rate_sch = tf.keras.optimizers.schedules.ExponentialDecay(decay_rate=DECAY_RATE,\n",
    "                                                          initial_learning_rate=LEARNING_RATE,\n",
    "                                                          decay_steps=DECAY_STEPS)\n",
    "\n",
    "compileModel(learning_rate_sch)"
   ]
  },
  {
   "cell_type": "code",
   "execution_count": 29,
   "metadata": {},
   "outputs": [
    {
     "name": "stdout",
     "output_type": "stream",
     "text": [
      "22\n",
      "6\n"
     ]
    }
   ],
   "source": [
    "#FIT MODEL\n",
    "print(len(train_batches))\n",
    "print(len(valid_batches))\n",
    "\n",
    "STEP_SIZE_TRAIN=train_batches.n//train_batches.batch_size\n",
    "STEP_SIZE_VALID=valid_batches.n//valid_batches.batch_size"
   ]
  },
  {
   "cell_type": "code",
   "execution_count": 30,
   "metadata": {
    "nbpresent": {
     "id": "cdb90d24-6a23-4969-8138-f37e7050062d"
    }
   },
   "outputs": [
    {
     "name": "stdout",
     "output_type": "stream",
     "text": [
      "WARNING:tensorflow:sample_weight modes were coerced from\n",
      "  ...\n",
      "    to  \n",
      "  ['...']\n",
      "WARNING:tensorflow:sample_weight modes were coerced from\n",
      "  ...\n",
      "    to  \n",
      "  ['...']\n",
      "Train for 21 steps, validate for 5 steps\n",
      "Epoch 1/100\n"
     ]
    },
    {
     "name": "stderr",
     "output_type": "stream",
     "text": [
      "C:\\Users\\User\\Anaconda3\\lib\\site-packages\\keras_preprocessing\\image\\image_data_generator.py:720: UserWarning: This ImageDataGenerator specifies `featurewise_center`, but it hasn't been fit on any training data. Fit it first by calling `.fit(numpy_data)`.\n",
      "  warnings.warn('This ImageDataGenerator specifies '\n",
      "C:\\Users\\User\\Anaconda3\\lib\\site-packages\\keras_preprocessing\\image\\image_data_generator.py:739: UserWarning: This ImageDataGenerator specifies `zca_whitening`, but it hasn't been fit on any training data. Fit it first by calling `.fit(numpy_data)`.\n",
      "  warnings.warn('This ImageDataGenerator specifies '\n"
     ]
    },
    {
     "name": "stdout",
     "output_type": "stream",
     "text": [
      "21/21 [==============================] - 103s 5s/step - loss: 0.7895 - accuracy: 0.7294 - val_loss: 0.5675 - val_accuracy: 0.7500\n",
      "Epoch 2/100\n",
      "21/21 [==============================] - 98s 5s/step - loss: 0.5516 - accuracy: 0.7536 - val_loss: 0.4941 - val_accuracy: 0.7150\n",
      "Epoch 3/100\n",
      "21/21 [==============================] - 99s 5s/step - loss: 0.5389 - accuracy: 0.7549 - val_loss: 0.4880 - val_accuracy: 0.7700\n",
      "Epoch 4/100\n",
      "21/21 [==============================] - 98s 5s/step - loss: 0.4919 - accuracy: 0.7731 - val_loss: 0.4027 - val_accuracy: 0.8100\n",
      "Epoch 5/100\n",
      "21/21 [==============================] - 100s 5s/step - loss: 0.4597 - accuracy: 0.7857 - val_loss: 0.4344 - val_accuracy: 0.7700\n",
      "Epoch 6/100\n",
      "21/21 [==============================] - 98s 5s/step - loss: 0.4473 - accuracy: 0.7803 - val_loss: 0.4440 - val_accuracy: 0.7950\n",
      "Epoch 7/100\n",
      "21/21 [==============================] - 99s 5s/step - loss: 0.4518 - accuracy: 0.7949 - val_loss: 0.4420 - val_accuracy: 0.7950\n",
      "Epoch 8/100\n",
      "21/21 [==============================] - 98s 5s/step - loss: 0.4466 - accuracy: 0.7755 - val_loss: 0.4163 - val_accuracy: 0.8050\n",
      "Epoch 9/100\n",
      "21/21 [==============================] - 96s 5s/step - loss: 0.4539 - accuracy: 0.7864 - val_loss: 0.3623 - val_accuracy: 0.8200\n",
      "Epoch 10/100\n",
      "21/21 [==============================] - 98s 5s/step - loss: 0.4329 - accuracy: 0.7852 - val_loss: 0.3977 - val_accuracy: 0.8050\n",
      "Epoch 11/100\n",
      "21/21 [==============================] - 96s 5s/step - loss: 0.4429 - accuracy: 0.8058 - val_loss: 0.3797 - val_accuracy: 0.8250\n",
      "Epoch 12/100\n",
      "21/21 [==============================] - 96s 5s/step - loss: 0.4341 - accuracy: 0.7803 - val_loss: 0.3676 - val_accuracy: 0.8200\n",
      "Epoch 13/100\n",
      "21/21 [==============================] - 94s 4s/step - loss: 0.3938 - accuracy: 0.8034 - val_loss: 0.3543 - val_accuracy: 0.8250\n",
      "Epoch 14/100\n",
      "21/21 [==============================] - 94s 4s/step - loss: 0.3923 - accuracy: 0.8010 - val_loss: 0.2791 - val_accuracy: 0.8300\n",
      "Epoch 15/100\n",
      "21/21 [==============================] - 93s 4s/step - loss: 0.4002 - accuracy: 0.8070 - val_loss: 0.4015 - val_accuracy: 0.8300\n",
      "Epoch 16/100\n",
      "21/21 [==============================] - 94s 4s/step - loss: 0.4058 - accuracy: 0.7985 - val_loss: 0.2989 - val_accuracy: 0.8550\n",
      "Epoch 17/100\n",
      "21/21 [==============================] - 93s 4s/step - loss: 0.3967 - accuracy: 0.8216 - val_loss: 0.3271 - val_accuracy: 0.8450\n",
      "Epoch 18/100\n",
      "21/21 [==============================] - 99s 5s/step - loss: 0.4229 - accuracy: 0.7816 - val_loss: 0.4354 - val_accuracy: 0.8200\n",
      "Epoch 19/100\n",
      "21/21 [==============================] - 97s 5s/step - loss: 0.4224 - accuracy: 0.8107 - val_loss: 0.3818 - val_accuracy: 0.8150\n",
      "Epoch 20/100\n",
      "21/21 [==============================] - 98s 5s/step - loss: 0.3636 - accuracy: 0.8204 - val_loss: 0.3122 - val_accuracy: 0.8550\n",
      "Epoch 21/100\n",
      "21/21 [==============================] - 168s 8s/step - loss: 0.3652 - accuracy: 0.8179 - val_loss: 0.3347 - val_accuracy: 0.8700\n",
      "Epoch 22/100\n",
      "21/21 [==============================] - 178s 8s/step - loss: 0.3536 - accuracy: 0.8240 - val_loss: 0.2562 - val_accuracy: 0.8500\n",
      "Epoch 23/100\n",
      "21/21 [==============================] - 180s 9s/step - loss: 0.3184 - accuracy: 0.8519 - val_loss: 0.2425 - val_accuracy: 0.8800\n",
      "Epoch 24/100\n",
      "21/21 [==============================] - 189s 9s/step - loss: 0.3266 - accuracy: 0.8410 - val_loss: 0.2372 - val_accuracy: 0.8700\n",
      "Epoch 25/100\n",
      "21/21 [==============================] - 184s 9s/step - loss: 0.3450 - accuracy: 0.8289 - val_loss: 0.3529 - val_accuracy: 0.8100\n",
      "Epoch 26/100\n",
      "21/21 [==============================] - 182s 9s/step - loss: 0.2973 - accuracy: 0.8629 - val_loss: 0.3625 - val_accuracy: 0.8400\n",
      "Epoch 27/100\n",
      "21/21 [==============================] - 182s 9s/step - loss: 0.3225 - accuracy: 0.8398 - val_loss: 0.4107 - val_accuracy: 0.7950\n",
      "Epoch 28/100\n",
      "21/21 [==============================] - 182s 9s/step - loss: 0.3485 - accuracy: 0.8289 - val_loss: 0.2998 - val_accuracy: 0.8600\n",
      "Epoch 29/100\n",
      "21/21 [==============================] - 178s 8s/step - loss: 0.3154 - accuracy: 0.8204 - val_loss: 0.3197 - val_accuracy: 0.8300\n",
      "Epoch 30/100\n",
      "21/21 [==============================] - 180s 9s/step - loss: 0.2911 - accuracy: 0.8641 - val_loss: 0.2894 - val_accuracy: 0.8350\n",
      "Epoch 31/100\n",
      "21/21 [==============================] - 187s 9s/step - loss: 0.3265 - accuracy: 0.8362 - val_loss: 0.5151 - val_accuracy: 0.8250\n",
      "Epoch 32/100\n",
      "21/21 [==============================] - 185s 9s/step - loss: 0.3277 - accuracy: 0.8410 - val_loss: 0.2890 - val_accuracy: 0.8450\n",
      "Epoch 33/100\n",
      "21/21 [==============================] - 185s 9s/step - loss: 0.3131 - accuracy: 0.8507 - val_loss: 0.2882 - val_accuracy: 0.8550\n",
      "Epoch 34/100\n",
      "21/21 [==============================] - 170s 8s/step - loss: 0.2864 - accuracy: 0.8532 - val_loss: 0.3453 - val_accuracy: 0.8350\n",
      "Epoch 35/100\n",
      "21/21 [==============================] - 153s 7s/step - loss: 0.3385 - accuracy: 0.8386 - val_loss: 0.3734 - val_accuracy: 0.8150\n",
      "Epoch 36/100\n",
      "21/21 [==============================] - 159s 8s/step - loss: 0.3073 - accuracy: 0.8592 - val_loss: 0.3080 - val_accuracy: 0.8650\n",
      "Epoch 37/100\n",
      "21/21 [==============================] - 157s 7s/step - loss: 0.2942 - accuracy: 0.8580 - val_loss: 0.3684 - val_accuracy: 0.8100\n",
      "Epoch 38/100\n",
      "21/21 [==============================] - 490s 23s/step - loss: 0.3226 - accuracy: 0.8265 - val_loss: 0.3331 - val_accuracy: 0.8500\n",
      "Epoch 39/100\n",
      "21/21 [==============================] - 98s 5s/step - loss: 0.2924 - accuracy: 0.8532 - val_loss: 0.3715 - val_accuracy: 0.7850\n",
      "Epoch 40/100\n",
      "21/21 [==============================] - 107s 5s/step - loss: 0.3061 - accuracy: 0.8507 - val_loss: 0.3868 - val_accuracy: 0.8150\n",
      "Epoch 41/100\n",
      "21/21 [==============================] - 97s 5s/step - loss: 0.2667 - accuracy: 0.8617 - val_loss: 0.3717 - val_accuracy: 0.8250\n",
      "Epoch 42/100\n",
      "21/21 [==============================] - 99s 5s/step - loss: 0.3195 - accuracy: 0.8532 - val_loss: 0.2768 - val_accuracy: 0.8350\n",
      "Epoch 43/100\n",
      "21/21 [==============================] - 96s 5s/step - loss: 0.2955 - accuracy: 0.8544 - val_loss: 0.2809 - val_accuracy: 0.8450\n",
      "Epoch 44/100\n",
      "21/21 [==============================] - 98s 5s/step - loss: 0.2926 - accuracy: 0.8483 - val_loss: 0.4119 - val_accuracy: 0.8300\n",
      "Epoch 45/100\n",
      "21/21 [==============================] - 99s 5s/step - loss: 0.2480 - accuracy: 0.8714 - val_loss: 0.5298 - val_accuracy: 0.8450\n",
      "Epoch 46/100\n",
      "21/21 [==============================] - 109s 5s/step - loss: 0.3197 - accuracy: 0.8483 - val_loss: 0.3771 - val_accuracy: 0.8100\n",
      "Epoch 47/100\n",
      "21/21 [==============================] - 107s 5s/step - loss: 0.3148 - accuracy: 0.8434 - val_loss: 0.3722 - val_accuracy: 0.8400\n",
      "Epoch 48/100\n",
      "21/21 [==============================] - 103s 5s/step - loss: 0.2770 - accuracy: 0.8544 - val_loss: 0.4756 - val_accuracy: 0.8200\n",
      "Epoch 49/100\n",
      "21/21 [==============================] - 106s 5s/step - loss: 0.3062 - accuracy: 0.8617 - val_loss: 0.2953 - val_accuracy: 0.8600\n",
      "Epoch 50/100\n",
      "21/21 [==============================] - 103s 5s/step - loss: 0.2374 - accuracy: 0.8665 - val_loss: 0.2822 - val_accuracy: 0.8150\n",
      "Epoch 51/100\n",
      "21/21 [==============================] - 104s 5s/step - loss: 0.2733 - accuracy: 0.8592 - val_loss: 0.2525 - val_accuracy: 0.8800\n",
      "Epoch 52/100\n",
      "21/21 [==============================] - 189s 9s/step - loss: 0.3171 - accuracy: 0.8447 - val_loss: 0.3192 - val_accuracy: 0.8000\n",
      "Epoch 53/100\n",
      "21/21 [==============================] - 121s 6s/step - loss: 0.2824 - accuracy: 0.8629 - val_loss: 0.2660 - val_accuracy: 0.8550\n",
      "Epoch 54/100\n",
      "21/21 [==============================] - 105s 5s/step - loss: 0.2988 - accuracy: 0.8410 - val_loss: 0.2653 - val_accuracy: 0.8400\n",
      "Epoch 55/100\n",
      "21/21 [==============================] - 101s 5s/step - loss: 0.2516 - accuracy: 0.8786 - val_loss: 0.3440 - val_accuracy: 0.8250\n",
      "Epoch 56/100\n",
      "21/21 [==============================] - 102s 5s/step - loss: 0.3228 - accuracy: 0.8524 - val_loss: 0.2849 - val_accuracy: 0.8500\n",
      "Epoch 57/100\n",
      "21/21 [==============================] - 100s 5s/step - loss: 0.3000 - accuracy: 0.8617 - val_loss: 0.3299 - val_accuracy: 0.8150\n",
      "Epoch 58/100\n"
     ]
    },
    {
     "name": "stdout",
     "output_type": "stream",
     "text": [
      "21/21 [==============================] - 103s 5s/step - loss: 0.2801 - accuracy: 0.8726 - val_loss: 0.2404 - val_accuracy: 0.8600\n",
      "Epoch 59/100\n",
      "21/21 [==============================] - 159s 8s/step - loss: 0.2923 - accuracy: 0.8568 - val_loss: 0.2524 - val_accuracy: 0.8850\n",
      "Epoch 60/100\n",
      "21/21 [==============================] - 187s 9s/step - loss: 0.2732 - accuracy: 0.8653 - val_loss: 0.2999 - val_accuracy: 0.8400\n",
      "Epoch 61/100\n",
      "21/21 [==============================] - 196s 9s/step - loss: 0.2653 - accuracy: 0.8726 - val_loss: 0.5097 - val_accuracy: 0.8250\n",
      "Epoch 62/100\n",
      "21/21 [==============================] - 185s 9s/step - loss: 0.2858 - accuracy: 0.8556 - val_loss: 0.2479 - val_accuracy: 0.8700\n",
      "Epoch 63/100\n",
      "21/21 [==============================] - 187s 9s/step - loss: 0.2675 - accuracy: 0.8592 - val_loss: 0.2457 - val_accuracy: 0.8550\n",
      "Epoch 64/100\n",
      "21/21 [==============================] - 188s 9s/step - loss: 0.3018 - accuracy: 0.8580 - val_loss: 0.3154 - val_accuracy: 0.7950\n",
      "Epoch 65/100\n",
      "21/21 [==============================] - 125s 6s/step - loss: 0.2761 - accuracy: 0.8665 - val_loss: 0.2845 - val_accuracy: 0.8300\n",
      "Epoch 66/100\n",
      "21/21 [==============================] - 102s 5s/step - loss: 0.2811 - accuracy: 0.8629 - val_loss: 0.2804 - val_accuracy: 0.8450\n",
      "Epoch 67/100\n",
      "21/21 [==============================] - 101s 5s/step - loss: 0.3201 - accuracy: 0.8434 - val_loss: 0.2875 - val_accuracy: 0.8300\n",
      "Epoch 68/100\n",
      "21/21 [==============================] - 101s 5s/step - loss: 0.2552 - accuracy: 0.8811 - val_loss: 0.4539 - val_accuracy: 0.8200\n",
      "Epoch 69/100\n",
      "21/21 [==============================] - 99s 5s/step - loss: 0.2404 - accuracy: 0.8859 - val_loss: 0.3965 - val_accuracy: 0.8200\n",
      "Epoch 70/100\n",
      "21/21 [==============================] - 101s 5s/step - loss: 0.3278 - accuracy: 0.8459 - val_loss: 0.2496 - val_accuracy: 0.8600\n",
      "Epoch 71/100\n",
      "21/21 [==============================] - 100s 5s/step - loss: 0.2617 - accuracy: 0.8726 - val_loss: 0.3866 - val_accuracy: 0.8150\n",
      "Epoch 72/100\n",
      "21/21 [==============================] - 100s 5s/step - loss: 0.2642 - accuracy: 0.8641 - val_loss: 0.3345 - val_accuracy: 0.8850\n",
      "Epoch 73/100\n",
      "21/21 [==============================] - 99s 5s/step - loss: 0.2413 - accuracy: 0.8786 - val_loss: 0.2870 - val_accuracy: 0.8550\n",
      "Epoch 74/100\n",
      "21/21 [==============================] - 99s 5s/step - loss: 0.2699 - accuracy: 0.8617 - val_loss: 0.3380 - val_accuracy: 0.8450\n",
      "Epoch 75/100\n",
      "21/21 [==============================] - 100s 5s/step - loss: 0.2580 - accuracy: 0.8665 - val_loss: 0.2813 - val_accuracy: 0.8800\n",
      "Epoch 76/100\n",
      "21/21 [==============================] - 99s 5s/step - loss: 0.2603 - accuracy: 0.8786 - val_loss: 0.3335 - val_accuracy: 0.8500\n",
      "Epoch 77/100\n",
      "21/21 [==============================] - 99s 5s/step - loss: 0.2662 - accuracy: 0.8689 - val_loss: 0.3978 - val_accuracy: 0.8500\n",
      "Epoch 78/100\n",
      "21/21 [==============================] - 97s 5s/step - loss: 0.2507 - accuracy: 0.8811 - val_loss: 0.2155 - val_accuracy: 0.8750\n",
      "Epoch 79/100\n",
      "21/21 [==============================] - 94s 4s/step - loss: 0.2373 - accuracy: 0.8701 - val_loss: 0.2521 - val_accuracy: 0.8550\n",
      "Epoch 80/100\n",
      "21/21 [==============================] - 95s 5s/step - loss: 0.2415 - accuracy: 0.8750 - val_loss: 0.2334 - val_accuracy: 0.8650\n",
      "Epoch 81/100\n",
      "21/21 [==============================] - 99s 5s/step - loss: 0.2672 - accuracy: 0.8726 - val_loss: 0.3860 - val_accuracy: 0.8100\n",
      "Epoch 82/100\n",
      "21/21 [==============================] - 99s 5s/step - loss: 0.2506 - accuracy: 0.8701 - val_loss: 0.3573 - val_accuracy: 0.8350\n",
      "Epoch 83/100\n",
      "21/21 [==============================] - 101s 5s/step - loss: 0.2454 - accuracy: 0.8811 - val_loss: 0.3255 - val_accuracy: 0.8300\n",
      "Epoch 84/100\n",
      "21/21 [==============================] - 99s 5s/step - loss: 0.2606 - accuracy: 0.8580 - val_loss: 0.3115 - val_accuracy: 0.8450\n",
      "Epoch 85/100\n",
      "21/21 [==============================] - 100s 5s/step - loss: 0.2486 - accuracy: 0.8714 - val_loss: 0.4441 - val_accuracy: 0.8400\n",
      "Epoch 86/100\n",
      "21/21 [==============================] - 98s 5s/step - loss: 0.2609 - accuracy: 0.8592 - val_loss: 0.5750 - val_accuracy: 0.7500\n",
      "Epoch 87/100\n",
      "21/21 [==============================] - 93s 4s/step - loss: 0.2669 - accuracy: 0.8701 - val_loss: 0.2732 - val_accuracy: 0.8700\n",
      "Epoch 88/100\n",
      "21/21 [==============================] - 93s 4s/step - loss: 0.2436 - accuracy: 0.8835 - val_loss: 0.3138 - val_accuracy: 0.8550\n",
      "Epoch 89/100\n",
      "21/21 [==============================] - 93s 4s/step - loss: 0.2886 - accuracy: 0.8653 - val_loss: 0.2467 - val_accuracy: 0.8550\n",
      "Epoch 90/100\n",
      "21/21 [==============================] - 93s 4s/step - loss: 0.2766 - accuracy: 0.8459 - val_loss: 0.3345 - val_accuracy: 0.8300\n",
      "Epoch 91/100\n",
      "21/21 [==============================] - 93s 4s/step - loss: 0.2535 - accuracy: 0.8665 - val_loss: 0.3618 - val_accuracy: 0.8650\n",
      "Epoch 92/100\n",
      "21/21 [==============================] - 93s 4s/step - loss: 0.2806 - accuracy: 0.8580 - val_loss: 0.2473 - val_accuracy: 0.8500\n",
      "Epoch 93/100\n",
      "21/21 [==============================] - 93s 4s/step - loss: 0.2482 - accuracy: 0.8786 - val_loss: 0.2778 - val_accuracy: 0.8400\n",
      "Epoch 94/100\n",
      "21/21 [==============================] - 93s 4s/step - loss: 0.2510 - accuracy: 0.8847 - val_loss: 0.3770 - val_accuracy: 0.8150\n",
      "Epoch 95/100\n",
      "21/21 [==============================] - 94s 4s/step - loss: 0.2825 - accuracy: 0.8629 - val_loss: 0.2859 - val_accuracy: 0.8100\n",
      "Epoch 96/100\n",
      "21/21 [==============================] - 96s 5s/step - loss: 0.3002 - accuracy: 0.8629 - val_loss: 0.3047 - val_accuracy: 0.8400\n",
      "Epoch 97/100\n",
      "21/21 [==============================] - 98s 5s/step - loss: 0.2370 - accuracy: 0.8883 - val_loss: 0.2451 - val_accuracy: 0.8750\n",
      "Epoch 98/100\n",
      "21/21 [==============================] - 94s 4s/step - loss: 0.2560 - accuracy: 0.8774 - val_loss: 0.3007 - val_accuracy: 0.8400\n",
      "Epoch 99/100\n",
      "21/21 [==============================] - 127s 6s/step - loss: 0.2763 - accuracy: 0.8580 - val_loss: 0.2786 - val_accuracy: 0.8550\n",
      "Epoch 100/100\n",
      "21/21 [==============================] - 100s 5s/step - loss: 0.2841 - accuracy: 0.8750 - val_loss: 0.2574 - val_accuracy: 0.8500\n"
     ]
    }
   ],
   "source": [
    "fit_history = myModel.fit_generator(epochs=NUM_EPOCHS, \n",
    "                                    generator=train_batches, \n",
    "                                    validation_data=valid_batches,\n",
    "                                    steps_per_epoch=STEP_SIZE_TRAIN, \n",
    "                                    validation_steps=STEP_SIZE_VALID,shuffle=True,\n",
    "                                    callbacks=[earlyStopping])"
   ]
  },
  {
   "cell_type": "markdown",
   "metadata": {
    "nbpresent": {
     "id": "66140980-2aa4-457f-b1df-74c10c234cc2"
    }
   },
   "source": [
    "#### [5 points] Plot Accuracy and Loss During Training"
   ]
  },
  {
   "cell_type": "code",
   "execution_count": 100,
   "metadata": {
    "nbpresent": {
     "id": "ff342098-784a-4e20-ac34-b74ca8ebe839"
    }
   },
   "outputs": [
    {
     "data": {
      "image/png": "[encoded data removed]",
      "text/plain": [
       "<Figure size 432x288 with 1 Axes>"
      ]
     },
     "metadata": {
      "needs_background": "light"
     },
     "output_type": "display_data"
    },
    {
     "data": {
      "image/png": "[encoded data removed]",
      "text/plain": [
       "<Figure size 432x288 with 1 Axes>"
      ]
     },
     "metadata": {
      "needs_background": "light"
     },
     "output_type": "display_data"
    }
   ],
   "source": [
    "import matplotlib.pyplot as plt\n",
    "\n",
    "plt.plot(fit_history.history['accuracy'], label='Train_acc')\n",
    "plt.plot(fit_history.history['val_accuracy'], label = 'Test_acc')\n",
    "plt.title('Accuracy over {num} Epochs'.format(num=NUM_EPOCHS))\n",
    "plt.grid(True)\n",
    "plt.legend(loc='best')\n",
    "plt.show()\n",
    "\n",
    "plt.plot(fit_history.history['loss'], label='Train_loss')\n",
    "plt.plot(fit_history.history['val_loss'], label = 'Test_loss')\n",
    "plt.title('Loss over {num} Epochs'.format(num=NUM_EPOCHS))\n",
    "plt.grid(True)\n",
    "plt.legend(loc='best')\n",
    "plt.show()"
   ]
  },
  {
   "cell_type": "markdown",
   "metadata": {
    "nbpresent": {
     "id": "66140980-2aa4-457f-b1df-74c10c234cc2"
    }
   },
   "source": [
    "#### Testing Model"
   ]
  },
  {
   "cell_type": "code",
   "execution_count": 67,
   "metadata": {},
   "outputs": [
    {
     "name": "stdout",
     "output_type": "stream",
     "text": [
      "Found 36 images belonging to 4 classes.\n",
      "36\n",
      "WARNING:tensorflow:sample_weight modes were coerced from\n",
      "  ...\n",
      "    to  \n",
      "  ['...']\n",
      "36/36 [==============================] - 15s 427ms/step - loss: 0.5250 - accuracy: 0.8333\n",
      "Test loss: 0.5249683064263182\n",
      "Test accuracy: 0.8333333\n"
     ]
    }
   ],
   "source": [
    "test_datagen = ImageDataGenerator(rescale=1. / 255)\n",
    "\n",
    "eval_generator = test_datagen.flow_from_directory(TEST_DIR,target_size=IMAGE_SIZE,\n",
    "                                                  batch_size=1,shuffle=False,seed=42,class_mode=\"categorical\")\n",
    "eval_generator.reset()\n",
    "print(len(eval_generator))\n",
    "x = myModel.evaluate_generator(eval_generator,steps = np.ceil(len(eval_generator)),\n",
    "                           use_multiprocessing = False,verbose = 1,workers=1)\n",
    "print('Test loss:' , x[0])\n",
    "print('Test accuracy:',x[1])"
   ]
  },
  {
   "cell_type": "markdown",
   "metadata": {
    "nbpresent": {
     "id": "66140980-2aa4-457f-b1df-74c10c234cc2"
    }
   },
   "source": [
    "## [10 points] TSNE Plot\n",
    "t-Distributed Stochastic Neighbor Embedding (t-SNE) is a widely used technique for dimensionality reduction that is particularly well suited for the visualization of high-dimensional datasets. After training is complete, extract features from a specific deep layer of your choice, use t-SNE to reduce the dimensionality of your extracted features to 2 dimensions and plot the resulting 2D features."
   ]
  },
  {
   "cell_type": "code",
   "execution_count": 68,
   "metadata": {},
   "outputs": [
    {
     "name": "stdout",
     "output_type": "stream",
     "text": [
      "Found 270 images belonging to 4 classes.\n"
     ]
    }
   ],
   "source": [
    "from sklearn.manifold import TSNE\n",
    "\n",
    "intermediate_layer_model = tf.keras.models.Model(inputs=myModel.input,\n",
    "                                        outputs=myModel.get_layer('dense_feature').output)\n",
    "\n",
    "tsne_eval_generator = test_datagen.flow_from_directory(DATASET_PATH,target_size=IMAGE_SIZE,\n",
    "                                                  batch_size=1,shuffle=False,seed=42,class_mode=\"categorical\")"
   ]
  },
  {
   "cell_type": "code",
   "execution_count": 87,
   "metadata": {},
   "outputs": [
    {
     "name": "stdout",
     "output_type": "stream",
     "text": [
      "[t-SNE] Computing 91 nearest neighbors...\n",
      "[t-SNE] Indexed 270 samples in 0.003s...\n",
      "[t-SNE] Computed neighbors for 270 samples in 0.071s...\n",
      "[t-SNE] Computed conditional probabilities for sample 270 / 270\n",
      "[t-SNE] Mean sigma: 2.212925\n",
      "[t-SNE] KL divergence after 250 iterations with early exaggeration: 53.041283\n",
      "[t-SNE] KL divergence after 1000 iterations: 0.282539\n"
     ]
    }
   ],
   "source": [
    "# found help here https://towardsdatascience.com/visualising-high-dimensional-datasets-using-pca-and-t-sne-in-python-8ef87e7915b\n",
    "predict = intermediate_layer_model.predict_generator(tsne_eval_generator)\n",
    "# found help here https://scikit-learn.org/stable/modules/generated/sklearn.manifold.TSNE.html\n",
    "tsne = TSNE(verbose=1, init='pca').fit_transform(predict)\n",
    "\n",
    "x = tsne[:,0]\n",
    "y = tsne[:,1]"
   ]
  },
  {
   "cell_type": "code",
   "execution_count": 88,
   "metadata": {},
   "outputs": [],
   "source": [
    "labels = tsne_eval_generator.labels\n",
    "set_place = {0: [], 1: [], 2: [], 3: []}\n",
    "for i in range(len(x)):\n",
    "    set_place[labels[i]].append(i)"
   ]
  },
  {
   "cell_type": "code",
   "execution_count": 89,
   "metadata": {},
   "outputs": [],
   "source": [
    "zero_x = np.take(x, set_place[0])\n",
    "zero_y = np.take(y, set_place[0])\n",
    "\n",
    "one_x = np.take(x, set_place[1])\n",
    "one_y = np.take(y, set_place[1])\n",
    "\n",
    "two_x = np.take(x, set_place[2])\n",
    "two_y = np.take(y, set_place[2])\n",
    "\n",
    "three_x = np.take(x, set_place[3])\n",
    "three_y = np.take(y, set_place[3])"
   ]
  },
  {
   "cell_type": "code",
   "execution_count": 98,
   "metadata": {},
   "outputs": [
    {
     "data": {
      "image/png": "[encoded data removed]",
      "text/plain": [
       "<Figure size 432x288 with 1 Axes>"
      ]
     },
     "metadata": {
      "needs_background": "light"
     },
     "output_type": "display_data"
    }
   ],
   "source": [
    "plt.scatter(zero_x, zero_y, label='COVID-19', color='blue')\n",
    "plt.scatter(one_x, one_y, label='Normal', color='orange')\n",
    "plt.scatter(two_x, two_y, label='Pneumonia_bac', color='green')\n",
    "plt.scatter(three_x, three_y, label='Pneumonia_vir', color='red')\n",
    "plt.legend(loc='upper right')\n",
    "plt.show()"
   ]
  },
  {
   "cell_type": "code",
   "execution_count": null,
   "metadata": {},
   "outputs": [],
   "source": []
  }
 ],
 "metadata": {
  "kernelspec": {
   "display_name": "Python 3",
   "language": "python",
   "name": "python3"
  },
  "language_info": {
   "codemirror_mode": {
    "name": "ipython",
    "version": 3
   },
   "file_extension": ".py",
   "mimetype": "text/x-python",
   "name": "python",
   "nbconvert_exporter": "python",
   "pygments_lexer": "ipython3",
   "version": "3.6.9"
  },
  "latex_envs": {
   "LaTeX_envs_menu_present": true,
   "autoclose": false,
   "autocomplete": true,
   "bibliofile": "biblio.bib",
   "cite_by": "apalike",
   "current_citInitial": 1,
   "eqLabelWithNumbers": true,
   "eqNumInitial": 1,
   "hotkeys": {
    "equation": "Ctrl-E",
    "itemize": "Ctrl-I"
   },
   "labels_anchors": false,
   "latex_user_defs": false,
   "report_style_numbering": false,
   "user_envs_cfg": false
  },
  "toc": {
   "base_numbering": 1,
   "nav_menu": {},
   "number_sections": true,
   "sideBar": true,
   "skip_h1_title": false,
   "title_cell": "Table of Contents",
   "title_sidebar": "Contents",
   "toc_cell": false,
   "toc_position": {},
   "toc_section_display": true,
   "toc_window_display": false
  },
  "varInspector": {
   "cols": {
    "lenName": 16,
    "lenType": 16,
    "lenVar": 40
   },
   "kernels_config": {
    "python": {
     "delete_cmd_postfix": "",
     "delete_cmd_prefix": "del ",
     "library": "var_list.py",
     "varRefreshCmd": "print(var_dic_list())"
    },
    "r": {
     "delete_cmd_postfix": ") ",
     "delete_cmd_prefix": "rm(",
     "library": "var_list.r",
     "varRefreshCmd": "cat(var_dic_list()) "
    }
   },
   "types_to_exclude": [
    "module",
    "function",
    "builtin_function_or_method",
    "instance",
    "_Feature"
   ],
   "window_display": false
  }
 },
 "nbformat": 4,
 "nbformat_minor": 4
}
